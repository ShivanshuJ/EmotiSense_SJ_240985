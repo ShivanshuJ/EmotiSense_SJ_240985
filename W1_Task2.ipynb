{
 "cells": [
  {
   "cell_type": "markdown",
   "id": "180987c6",
   "metadata": {},
   "source": [
    "Logistic Regression"
   ]
  },
  {
   "cell_type": "code",
   "execution_count": 6,
   "id": "4c0e69b3",
   "metadata": {},
   "outputs": [
    {
     "name": "stdout",
     "output_type": "stream",
     "text": [
      "Accuracy: 80.00%\n"
     ]
    }
   ],
   "source": [
    "import numpy as np\n",
    "import pandas as pd\n",
    "from sklearn.model_selection import train_test_split\n",
    "\n",
    "column_names = ['sepal_length', 'sepal_width', 'petal_length', 'petal_width', 'species']\n",
    "df = pd.read_csv('iris.data', header=None, names=column_names)\n",
    "df.dropna(inplace=True)\n",
    "\n",
    "# Filter only 'Iris-versicolor' and 'Iris-virginica'\n",
    "df = df[df['species'].isin(['Iris-versicolor', 'Iris-virginica'])]\n",
    "\n",
    "# Encode labels: versicolor → 0, virginica → 1\n",
    "df['label'] = df['species'].map({'Iris-versicolor': 0, 'Iris-virginica': 1})\n",
    "\n",
    "# Separate features and labels\n",
    "X = df.iloc[:, :-2].values  # only the 4 feature columns\n",
    "y = df['label'].values\n",
    "\n",
    "# Normalize features\n",
    "X = (X - X.mean(axis=0)) / X.std(axis=0)\n",
    "\n",
    "# Train-test split\n",
    "X_train, X_test, y_train, y_test = train_test_split(X, y, test_size=0.2, random_state=42)\n",
    "\n",
    "# Sigmoid function\n",
    "def sigmoid(z):\n",
    "    return 1 / (1 + np.exp(-z))\n",
    "\n",
    "# Cost function\n",
    "def compute_cost(X, y, weights):\n",
    "    m = len(y)\n",
    "    h = sigmoid(np.dot(X, weights))\n",
    "    cost = -(1/m) * np.sum(y*np.log(h) + (1 - y)*np.log(1 - h))\n",
    "    return cost\n",
    "\n",
    "# Gradient descent\n",
    "def gradient_descent(X, y, weights, lr, epochs):\n",
    "    m = len(y)\n",
    "    cost_history = []\n",
    "\n",
    "    for _ in range(epochs):\n",
    "        h = sigmoid(np.dot(X, weights))\n",
    "        gradient = np.dot(X.T, (h - y)) / m\n",
    "        weights -= lr * gradient\n",
    "        cost = compute_cost(X, y, weights)\n",
    "        cost_history.append(cost)\n",
    "\n",
    "    return weights, cost_history\n",
    "\n",
    "# Add bias term (intercept)\n",
    "X_train_ = np.hstack((np.ones((X_train.shape[0], 1)), X_train))\n",
    "X_test_ = np.hstack((np.ones((X_test.shape[0], 1)), X_test))\n",
    "\n",
    "# Initialize weights\n",
    "weights = np.zeros(X_train_.shape[1])\n",
    "\n",
    "# Train model\n",
    "weights, cost_history = gradient_descent(X_train_, y_train, weights, lr=0.1, epochs=1000)\n",
    "\n",
    "# Predict\n",
    "def predict(X, weights):\n",
    "    return sigmoid(np.dot(X, weights)) >= 0.5\n",
    "\n",
    "# Evaluate\n",
    "y_pred = predict(X_test_, weights)\n",
    "accuracy = np.mean(y_pred == y_test)\n",
    "print(f\"Accuracy: {accuracy * 100:.2f}%\")\n"
   ]
  }
 ],
 "metadata": {
  "kernelspec": {
   "display_name": "Python 3",
   "language": "python",
   "name": "python3"
  },
  "language_info": {
   "codemirror_mode": {
    "name": "ipython",
    "version": 3
   },
   "file_extension": ".py",
   "mimetype": "text/x-python",
   "name": "python",
   "nbconvert_exporter": "python",
   "pygments_lexer": "ipython3",
   "version": "3.10.2"
  }
 },
 "nbformat": 4,
 "nbformat_minor": 5
}
